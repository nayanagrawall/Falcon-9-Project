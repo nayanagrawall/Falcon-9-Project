{
 "cells": [
  {
   "cell_type": "code",
   "execution_count": 1,
   "id": "eb1f0390",
   "metadata": {},
   "outputs": [
    {
     "name": "stderr",
     "output_type": "stream",
     "text": [
      "C:\\Users\\Nayan\\AppData\\Local\\Temp\\ipykernel_19460\\1399112611.py:4: UserWarning: \n",
      "The dash_html_components package is deprecated. Please replace\n",
      "`import dash_html_components as html` with `from dash import html`\n",
      "  import dash_html_components as html\n",
      "C:\\Users\\Nayan\\AppData\\Local\\Temp\\ipykernel_19460\\1399112611.py:5: UserWarning: \n",
      "The dash_core_components package is deprecated. Please replace\n",
      "`import dash_core_components as dcc` with `from dash import dcc`\n",
      "  import dash_core_components as dcc\n"
     ]
    }
   ],
   "source": [
    "# Import required libraries\n",
    "import pandas as pd\n",
    "import dash\n",
    "import dash_html_components as html\n",
    "import dash_core_components as dcc\n",
    "from dash.dependencies import Input, Output\n",
    "import plotly.express as px"
   ]
  },
  {
   "cell_type": "code",
   "execution_count": 52,
   "id": "a6ee0fb9",
   "metadata": {},
   "outputs": [
    {
     "data": {
      "text/html": [
       "<div>\n",
       "<style scoped>\n",
       "    .dataframe tbody tr th:only-of-type {\n",
       "        vertical-align: middle;\n",
       "    }\n",
       "\n",
       "    .dataframe tbody tr th {\n",
       "        vertical-align: top;\n",
       "    }\n",
       "\n",
       "    .dataframe thead th {\n",
       "        text-align: right;\n",
       "    }\n",
       "</style>\n",
       "<table border=\"1\" class=\"dataframe\">\n",
       "  <thead>\n",
       "    <tr style=\"text-align: right;\">\n",
       "      <th></th>\n",
       "      <th>Unnamed: 0.1</th>\n",
       "      <th>Unnamed: 0</th>\n",
       "      <th>Flight Number</th>\n",
       "      <th>Launch Site</th>\n",
       "      <th>class</th>\n",
       "      <th>Payload Mass (kg)</th>\n",
       "      <th>Booster Version</th>\n",
       "      <th>Booster Version Category</th>\n",
       "    </tr>\n",
       "  </thead>\n",
       "  <tbody>\n",
       "    <tr>\n",
       "      <th>0</th>\n",
       "      <td>0</td>\n",
       "      <td>0</td>\n",
       "      <td>1</td>\n",
       "      <td>CCAFS LC-40</td>\n",
       "      <td>0</td>\n",
       "      <td>0.0</td>\n",
       "      <td>F9 v1.0  B0003</td>\n",
       "      <td>v1.0</td>\n",
       "    </tr>\n",
       "    <tr>\n",
       "      <th>1</th>\n",
       "      <td>1</td>\n",
       "      <td>1</td>\n",
       "      <td>2</td>\n",
       "      <td>CCAFS LC-40</td>\n",
       "      <td>0</td>\n",
       "      <td>0.0</td>\n",
       "      <td>F9 v1.0  B0004</td>\n",
       "      <td>v1.0</td>\n",
       "    </tr>\n",
       "  </tbody>\n",
       "</table>\n",
       "</div>"
      ],
      "text/plain": [
       "   Unnamed: 0.1  Unnamed: 0  Flight Number  Launch Site  class  \\\n",
       "0             0           0              1  CCAFS LC-40      0   \n",
       "1             1           1              2  CCAFS LC-40      0   \n",
       "\n",
       "   Payload Mass (kg) Booster Version Booster Version Category  \n",
       "0                0.0  F9 v1.0  B0003                     v1.0  \n",
       "1                0.0  F9 v1.0  B0004                     v1.0  "
      ]
     },
     "execution_count": 52,
     "metadata": {},
     "output_type": "execute_result"
    }
   ],
   "source": [
    "# Read the airline data into pandas dataframe\n",
    "spacex_df = pd.read_csv('https://cf-courses-data.s3.us.cloud-object-storage.appdomain.cloud/IBM-DS0321EN-SkillsNetwork/datasets/spacex_launch_dash.csv')\n",
    "spacex_df.to_csv('spacex_launch_dash.csv')\n",
    "spacex_df = pd.read_csv(\"spacex_launch_dash.csv\")\n",
    "max_payload = spacex_df['Payload Mass (kg)'].max()\n",
    "min_payload = spacex_df['Payload Mass (kg)'].min()\n",
    "spacex_df.head(2)"
   ]
  },
  {
   "cell_type": "code",
   "execution_count": 70,
   "id": "da7286bd",
   "metadata": {
    "scrolled": false
   },
   "outputs": [
    {
     "data": {
      "text/html": [
       "\n",
       "        <iframe\n",
       "            width=\"100%\"\n",
       "            height=\"650\"\n",
       "            src=\"http://127.0.0.1:8050/\"\n",
       "            frameborder=\"0\"\n",
       "            allowfullscreen\n",
       "            \n",
       "        ></iframe>\n",
       "        "
      ],
      "text/plain": [
       "<IPython.lib.display.IFrame at 0x11396e83040>"
      ]
     },
     "metadata": {},
     "output_type": "display_data"
    }
   ],
   "source": [
    "# Create a dash application\n",
    "app = dash.Dash(__name__)\n",
    "\n",
    "# Create an app layout\n",
    "app.layout = html.Div(children=[html.H1('SpaceX Launch Records Dashboard',\n",
    "                                        style={'textAlign': 'center', 'color': '#503D36',\n",
    "                                               'font-size': 40}),\n",
    "                                # TASK 1: Add a dropdown list to enable Launch Site selection\n",
    "                                # The default select value is for ALL sites\n",
    "                                html.Div([\n",
    "                                    html.Label('Select Launch Site:'),\n",
    "                                    dcc.Dropdown(\n",
    "                                        id='site-dropdown',\n",
    "                                        options=[\n",
    "                                                {'label':'CCAFS LC-40', 'value':'CCAFS LC-40'},\n",
    "                                                {'label':'CCAFS SLC-40', 'value':'CCAFS SLC-40'},\n",
    "                                                {'label':'KSC LC-39A', 'value':'KSC LC-39A'},\n",
    "                                                {'label':'VAFB SLC-4E', 'value':'VAFB SLC-4E'}\n",
    "                                                ],\n",
    "                                        value='ALL',\n",
    "                                        placeholder='Select a Launch Site here',\n",
    "                                        searchable=True\n",
    "                                        ),\n",
    "                                ]),\n",
    "                                html.Br(),\n",
    "\n",
    "                                # TASK 2: Add a pie chart to show the total successful launches count for all sites\n",
    "                                # If a specific launch site was selected, show the Success vs. Failed counts for the site\n",
    "                                html.Div(dcc.Graph(id='success-pie-chart')),\n",
    "                                html.Br(),\n",
    "\n",
    "                                html.Div([\n",
    "                                    html.P(\"Payload range (Kg):\"),\n",
    "                                # TASK 3: Add a slider to select payload range\n",
    "                                    dcc.RangeSlider(id='payload-slider',\n",
    "                                               min=0, max=10000, step=1000,\n",
    "                                               \n",
    "                                               value=[min_payload, max_payload]),\n",
    "                                ]),\n",
    "\n",
    "                                # TASK 4: Add a scatter chart to show the correlation between payload and launch success\n",
    "                                html.Div(dcc.Graph(id='success-payload-scatter-chart')),\n",
    "                                ])\n",
    "\n",
    "# TASK 2:\n",
    "# Add a callback function for `site-dropdown` as input, `success-pie-chart` as output\n",
    "@app.callback(Output(component_id='success-pie-chart', component_property='figure'),\n",
    "              Input(component_id='site-dropdown', component_property='value'))\n",
    "\n",
    "#Defining a function to get pie chart as a return\n",
    "\n",
    "def get_pie_chart(entered_site):\n",
    "    filtered_df = spacex_df\n",
    "    if entered_site == 'ALL':\n",
    "        fig = px.pie(filtered_df, values='class', names='Launch Site',\n",
    "                    title='Success Count of all Launch Sites')\n",
    "        return fig\n",
    "    else:\n",
    "        filtered_df=spacex_df[spacex_df['Launch Site']==entered_site]\n",
    "        filtered_df=filtered_df.groupby(['Launch Site','class']).size().reset_index(name='class count')\n",
    "        fig = px.pie(filtered_df, values='class count', names=['Failure','Successful'],\n",
    "                     color_discrete_sequence=['Red','Green'],\n",
    "                    title='Total Success Launches for {} Launch Site'.format(entered_site))\n",
    "        return fig\n",
    "# TASK 4:\n",
    "# Add a callback function for `site-dropdown` and `payload-slider` as inputs, `success-payload-scatter-chart` as output\n",
    "\n",
    "@app.callback(Output(component_id='success-payload-scatter-chart', component_property='figure'),\n",
    "             [Input(component_id='site-dropdown', component_property='value'),\n",
    "             Input(component_id='payload-slider', component_property='value')])\n",
    "\n",
    "#Defining a function to get a scatter plot as a return\n",
    "\n",
    "def get_scatter_plot(entered_site, selected_payload_range):\n",
    "    scatter_df = spacex_df[spacex_df['Payload Mass (kg)'].between(selected_payload_range[0], selected_payload_range[1])]\n",
    "    if entered_site == 'ALL':\n",
    "        fig = px.scatter(scatter_df, x='Payload Mass (kg)', y='class', color='Booster Version Category',\n",
    "                         hover_name='Launch Site'\n",
    "                         )\n",
    "        return fig\n",
    "    else:\n",
    "        scatter_range_df = scatter_df[scatter_df['Launch Site']==entered_site]\n",
    "        fig = px.scatter(scatter_range_df, x='Payload Mass (kg)', y='class', color='Booster Version Category',\n",
    "                         hover_name='Launch Site'\n",
    "                        )\n",
    "        return fig\n",
    "\n",
    "# Run the app\n",
    "if __name__ == '__main__':\n",
    "    app.run_server()"
   ]
  },
  {
   "cell_type": "code",
   "execution_count": null,
   "id": "3d89fa14",
   "metadata": {},
   "outputs": [],
   "source": []
  }
 ],
 "metadata": {
  "kernelspec": {
   "display_name": "Python 3 (ipykernel)",
   "language": "python",
   "name": "python3"
  },
  "language_info": {
   "codemirror_mode": {
    "name": "ipython",
    "version": 3
   },
   "file_extension": ".py",
   "mimetype": "text/x-python",
   "name": "python",
   "nbconvert_exporter": "python",
   "pygments_lexer": "ipython3",
   "version": "3.10.9"
  }
 },
 "nbformat": 4,
 "nbformat_minor": 5
}
